{
  "cells": [
    {
      "cell_type": "markdown",
      "metadata": {
        "id": "view-in-github",
        "colab_type": "text"
      },
      "source": [
        "<a href=\"https://colab.research.google.com/github/Ashleshashetty/ml_ai_notebooks/blob/main/jupyter_(2).ipynb\" target=\"_parent\"><img src=\"https://colab.research.google.com/assets/colab-badge.svg\" alt=\"Open In Colab\"/></a>"
      ]
    },
    {
      "cell_type": "markdown",
      "id": "81403f71",
      "metadata": {
        "id": "81403f71"
      },
      "source": [
        "data types"
      ]
    },
    {
      "cell_type": "code",
      "execution_count": null,
      "id": "91ec1c89",
      "metadata": {
        "id": "91ec1c89",
        "outputId": "6b3e9c84-cab7-4510-f120-409e4a930633"
      },
      "outputs": [
        {
          "data": {
            "text/plain": [
              "9"
            ]
          },
          "execution_count": 1,
          "metadata": {},
          "output_type": "execute_result"
        }
      ],
      "source": [
        "4+5"
      ]
    },
    {
      "cell_type": "code",
      "execution_count": null,
      "id": "cc19e892",
      "metadata": {
        "id": "cc19e892",
        "outputId": "8e0f02d4-6452-444a-cd2e-0e43bd4e83ec"
      },
      "outputs": [
        {
          "data": {
            "text/plain": [
              "24"
            ]
          },
          "execution_count": 2,
          "metadata": {},
          "output_type": "execute_result"
        }
      ],
      "source": [
        "6*4"
      ]
    },
    {
      "cell_type": "code",
      "execution_count": null,
      "id": "a2aa2e47",
      "metadata": {
        "id": "a2aa2e47"
      },
      "outputs": [],
      "source": [
        "#variable assignment"
      ]
    },
    {
      "cell_type": "code",
      "execution_count": null,
      "id": "ab5b9c1d",
      "metadata": {
        "id": "ab5b9c1d"
      },
      "outputs": [],
      "source": [
        "x=2\n",
        "y=3"
      ]
    },
    {
      "cell_type": "code",
      "execution_count": null,
      "id": "03bdbc57",
      "metadata": {
        "id": "03bdbc57"
      },
      "outputs": [],
      "source": [
        "z=x+y"
      ]
    },
    {
      "cell_type": "code",
      "execution_count": null,
      "id": "2466f3bf",
      "metadata": {
        "id": "2466f3bf",
        "outputId": "5abc7b66-fdb3-4893-d883-b64c65be8494"
      },
      "outputs": [
        {
          "data": {
            "text/plain": [
              "5"
            ]
          },
          "execution_count": 6,
          "metadata": {},
          "output_type": "execute_result"
        }
      ],
      "source": [
        "z"
      ]
    },
    {
      "cell_type": "code",
      "execution_count": 1,
      "id": "5e6726d1",
      "metadata": {
        "colab": {
          "base_uri": "https://localhost:8080/"
        },
        "id": "5e6726d1",
        "outputId": "15defff0-4483-47d5-948b-b50a857cffb0"
      },
      "outputs": [
        {
          "output_type": "execute_result",
          "data": {
            "text/plain": [
              "50"
            ]
          },
          "metadata": {},
          "execution_count": 1
        }
      ],
      "source": [
        "x=5\n",
        "y=10\n",
        "z=x*y\n",
        "z"
      ]
    },
    {
      "cell_type": "code",
      "execution_count": 2,
      "id": "79297d75",
      "metadata": {
        "colab": {
          "base_uri": "https://localhost:8080/"
        },
        "id": "79297d75",
        "outputId": "745c0029-9aa4-42e0-e0a8-3bbb31569005"
      },
      "outputs": [
        {
          "output_type": "execute_result",
          "data": {
            "text/plain": [
              "30"
            ]
          },
          "metadata": {},
          "execution_count": 2
        }
      ],
      "source": [
        "x=20\n",
        "x+=10\n",
        "x"
      ]
    },
    {
      "cell_type": "code",
      "source": [],
      "metadata": {
        "id": "H5J2IL80fpjs"
      },
      "id": "H5J2IL80fpjs",
      "execution_count": null,
      "outputs": []
    }
  ],
  "metadata": {
    "kernelspec": {
      "display_name": "Python 3 (ipykernel)",
      "language": "python",
      "name": "python3"
    },
    "language_info": {
      "codemirror_mode": {
        "name": "ipython",
        "version": 3
      },
      "file_extension": ".py",
      "mimetype": "text/x-python",
      "name": "python",
      "nbconvert_exporter": "python",
      "pygments_lexer": "ipython3",
      "version": "3.9.12"
    },
    "colab": {
      "provenance": [],
      "include_colab_link": true
    }
  },
  "nbformat": 4,
  "nbformat_minor": 5
}